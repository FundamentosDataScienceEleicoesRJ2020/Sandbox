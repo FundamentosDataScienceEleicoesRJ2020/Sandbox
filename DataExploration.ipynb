{
  "nbformat": 4,
  "nbformat_minor": 0,
  "metadata": {
    "colab": {
      "name": "DataExploration.ipynb",
      "provenance": [],
      "collapsed_sections": [],
      "authorship_tag": "ABX9TyP6wNFCxbLUBEHmQLqNDj+c"
    },
    "kernelspec": {
      "name": "python3",
      "display_name": "Python 3"
    }
  },
  "cells": [
    {
      "cell_type": "markdown",
      "metadata": {
        "id": "alVCNhCJVsdx"
      },
      "source": [
        "# Pré-Requisitos"
      ]
    },
    {
      "cell_type": "markdown",
      "metadata": {
        "id": "IiIJteApVzjr"
      },
      "source": [
        "## Sweetviz - https://pypi.org/project/sweetviz/"
      ]
    },
    {
      "cell_type": "code",
      "metadata": {
        "id": "-WzgYLKpV2Oa"
      },
      "source": [
        "!pip install sweetviz"
      ],
      "execution_count": null,
      "outputs": []
    },
    {
      "cell_type": "markdown",
      "metadata": {
        "id": "5wgYP1uct_2Y"
      },
      "source": [
        "## Baixa e Descompacta o Dataset"
      ]
    },
    {
      "cell_type": "code",
      "metadata": {
        "id": "sE3Yr66XuvsV"
      },
      "source": [
        "url = \"http://ec2-100-25-20-177.compute-1.amazonaws.com/coletas/\"\n",
        "# JSON (3 GB):\n",
        "#filename = \"prefeito_rio_2020.json.tar.gz\"\n",
        "# CSV (1 GB):\n",
        "filename = \"prefeito_rio_2020.csv.tar.gz\"\n",
        "!wget {url + filename}\n",
        "!tar -xvzf $filename"
      ],
      "execution_count": null,
      "outputs": []
    },
    {
      "cell_type": "markdown",
      "metadata": {
        "id": "OeargXNb1uwR"
      },
      "source": [
        "### Total de linhas (registros) no arquivo JSON"
      ]
    },
    {
      "cell_type": "code",
      "metadata": {
        "id": "XgFyqTglykHJ"
      },
      "source": [
        "count = 0\n",
        "\n",
        "for line in open(\"prefeito_rio_2020.json\"):\n",
        "  count += 1\n",
        "\n",
        "print(count)"
      ],
      "execution_count": null,
      "outputs": []
    },
    {
      "cell_type": "markdown",
      "metadata": {
        "id": "cEZpOErD-Wer"
      },
      "source": [
        "## Copia dataset do Google Drive"
      ]
    },
    {
      "cell_type": "code",
      "metadata": {
        "id": "auH8GQLw-iX4"
      },
      "source": [
        "from google.colab import drive\n",
        "# Caminho do arquivo dentro do Drive\n",
        "filepath = \"_DS/prefeito_rio_2020.csv\"\n",
        "drive.mount('/content/drive')\n",
        "\n",
        "!cp drive/MyDrive/$filepath ."
      ],
      "execution_count": null,
      "outputs": []
    },
    {
      "cell_type": "markdown",
      "metadata": {
        "id": "lYe6XTM8N4Bg"
      },
      "source": [
        "# Bibliotecas"
      ]
    },
    {
      "cell_type": "code",
      "metadata": {
        "id": "3ralI8XsN9yj"
      },
      "source": [
        "import pandas as pd\n",
        "import sweetviz as sv\n",
        "import json"
      ],
      "execution_count": null,
      "outputs": []
    },
    {
      "cell_type": "markdown",
      "metadata": {
        "id": "9DXdghqxcUJZ"
      },
      "source": [
        "# Abre o DataSet"
      ]
    },
    {
      "cell_type": "code",
      "metadata": {
        "id": "aYU9hM3zln0d"
      },
      "source": [
        "uri = \"prefeito_rio_2020.csv\"\n",
        "ds = pd.read_csv(uri)\n",
        "ds.head()"
      ],
      "execution_count": null,
      "outputs": []
    },
    {
      "cell_type": "markdown",
      "metadata": {
        "id": "wNhl6qzaX0po"
      },
      "source": [
        "# Mostra informações sobre o DataSet"
      ]
    },
    {
      "cell_type": "code",
      "metadata": {
        "id": "VfUK5nZFX-X2"
      },
      "source": [
        "ds.info()"
      ],
      "execution_count": null,
      "outputs": []
    },
    {
      "cell_type": "markdown",
      "metadata": {
        "id": "zwAQAub-dH3_"
      },
      "source": [
        "# Seleciona registros com dados nulos"
      ]
    },
    {
      "cell_type": "code",
      "metadata": {
        "id": "fQ4L7RhWAWbv"
      },
      "source": [
        "ds[ds.isna().any(axis=1)]"
      ],
      "execution_count": null,
      "outputs": []
    },
    {
      "cell_type": "markdown",
      "metadata": {
        "id": "5qg0p7Vc2M72"
      },
      "source": [
        "# Mostra total de valores nulos por colunas"
      ]
    },
    {
      "cell_type": "code",
      "metadata": {
        "id": "uiXlDsoW1UlD"
      },
      "source": [
        "ds.isna().sum()"
      ],
      "execution_count": null,
      "outputs": []
    },
    {
      "cell_type": "markdown",
      "metadata": {
        "id": "5PQInSkkdq3f"
      },
      "source": [
        "# Mostra as colunas informando sobre valores nulos"
      ]
    },
    {
      "cell_type": "code",
      "metadata": {
        "id": "2RglXi4fE0-o"
      },
      "source": [
        "ds.isna().any()"
      ],
      "execution_count": null,
      "outputs": []
    },
    {
      "cell_type": "markdown",
      "metadata": {
        "id": "tsVdTngUeKSu"
      },
      "source": [
        "# Lista somente as colunas que possuem valores nulos"
      ]
    },
    {
      "cell_type": "code",
      "metadata": {
        "id": "tftDEVUuF871"
      },
      "source": [
        "ds.columns[ds.isna().any()].tolist()"
      ],
      "execution_count": null,
      "outputs": []
    },
    {
      "cell_type": "markdown",
      "metadata": {
        "id": "TX14MZtAO_qx"
      },
      "source": [
        "# Lista colunas com objetos JSON"
      ]
    },
    {
      "cell_type": "code",
      "metadata": {
        "id": "r_HkwduOarys"
      },
      "source": [
        "# Função que verifica se determinada string é um objeto json (parâmetro opcional = somente dicionário)\n",
        "def is_json(myjson, ignore_list=True):\n",
        "  try:\n",
        "    json_object = json.loads(myjson)\n",
        "  except:\n",
        "    return False\n",
        "  # Verifica se o objeto json é uma lista\n",
        "  if (ignore_list and type(json_object) == list):\n",
        "    return False\n",
        "  else:\n",
        "    return True\n",
        "# Analisa sempre o primeiro índice não nulo da referida coluna, ou 0 quando a coluna é vazia\n",
        "[column for column in ds.columns if is_json(ds[column][ds[column].first_valid_index() or 0])]"
      ],
      "execution_count": null,
      "outputs": []
    },
    {
      "cell_type": "markdown",
      "metadata": {
        "id": "H4GOgtcoYhfe"
      },
      "source": [
        "# Análise Exploratória de Dados - Sweetviz"
      ]
    },
    {
      "cell_type": "markdown",
      "metadata": {
        "id": "DwVFqP5zOLIu"
      },
      "source": [
        "## Dataset inteiro"
      ]
    },
    {
      "cell_type": "code",
      "metadata": {
        "id": "cXhdX05mYjqU"
      },
      "source": [
        "report = sv.analyze(ds)\n",
        "report.show_notebook()"
      ],
      "execution_count": null,
      "outputs": []
    },
    {
      "cell_type": "markdown",
      "metadata": {
        "id": "5gn6Stlt8QVp"
      },
      "source": [
        "### Exporta relatório para HTML"
      ]
    },
    {
      "cell_type": "code",
      "metadata": {
        "id": "6xhNms0L8TAV"
      },
      "source": [
        "report.show_html()"
      ],
      "execution_count": null,
      "outputs": []
    },
    {
      "cell_type": "markdown",
      "metadata": {
        "id": "c9MbxelOOXHI"
      },
      "source": [
        "## Colunas com objetos JSON"
      ]
    },
    {
      "cell_type": "markdown",
      "metadata": {
        "id": "IHMg7derP3Ej"
      },
      "source": [
        "### Coluna user"
      ]
    },
    {
      "cell_type": "markdown",
      "metadata": {
        "id": "xtA5yXnpRzQ0"
      },
      "source": [
        "Transforma os objetos JSON da coluna em um DataFrame:"
      ]
    },
    {
      "cell_type": "code",
      "metadata": {
        "id": "gTNJw6XXSvlU"
      },
      "source": [
        "expanded_user = pd.json_normalize(ds.user.apply(json.loads))\n",
        "expanded_user.head()"
      ],
      "execution_count": null,
      "outputs": []
    },
    {
      "cell_type": "markdown",
      "metadata": {
        "id": "vqxuOmOeSHIC"
      },
      "source": [
        "Analisa o DataFrame (Sweetviz):"
      ]
    },
    {
      "cell_type": "code",
      "metadata": {
        "id": "5W7NCG59ST6A"
      },
      "source": [
        "report_user = sv.analyze(expanded_user)\n",
        "report_user.show_notebook()"
      ],
      "execution_count": null,
      "outputs": []
    },
    {
      "cell_type": "markdown",
      "metadata": {
        "id": "o6d9Svl88tkM"
      },
      "source": [
        "Exporta relatório para HTML:"
      ]
    },
    {
      "cell_type": "code",
      "metadata": {
        "id": "g5-fGyzZ8ydU"
      },
      "source": [
        "report_user.show_html(filepath='SWEETVIZ_REPORT_USER.html')"
      ],
      "execution_count": null,
      "outputs": []
    },
    {
      "cell_type": "markdown",
      "metadata": {
        "id": "2UcRG5Jgx6Cm"
      },
      "source": [
        "### Coluna geo"
      ]
    },
    {
      "cell_type": "markdown",
      "metadata": {
        "id": "QJcckH3_yASz"
      },
      "source": [
        "### Coluna coordinates"
      ]
    },
    {
      "cell_type": "markdown",
      "metadata": {
        "id": "Q6_yXcmryGQz"
      },
      "source": [
        "### Coluna place"
      ]
    },
    {
      "cell_type": "markdown",
      "metadata": {
        "id": "RUvkYmuUQoHr"
      },
      "source": [
        "### Coluna extended_tweet"
      ]
    },
    {
      "cell_type": "markdown",
      "metadata": {
        "id": "IEF4261zUWtH"
      },
      "source": [
        "Transforma os objetos JSON da coluna em um DataFrame:"
      ]
    },
    {
      "cell_type": "code",
      "metadata": {
        "id": "eK4Q5girbovj"
      },
      "source": [
        "# Transforma dados null em objetos json vazio {} antes de carregar\n",
        "expanded_ext_tweet = pd.json_normalize(ds.extended_tweet.fillna('{}').apply(json.loads))\n",
        "expanded_ext_tweet.head()"
      ],
      "execution_count": null,
      "outputs": []
    },
    {
      "cell_type": "markdown",
      "metadata": {
        "id": "C06v8G1hUpQx"
      },
      "source": [
        "Analisa o DataFrame (Sweetviz):"
      ]
    },
    {
      "cell_type": "code",
      "metadata": {
        "id": "J6AWHVzSUslN"
      },
      "source": [
        "# Converte lista para string json antes de analisar\n",
        "for column in expanded_ext_tweet.columns:\n",
        "  expanded_ext_tweet[column] = expanded_ext_tweet[column].apply(lambda x: json.dumps(x) if type(x) == list else x)\n",
        "report_ext_tweet = sv.analyze(expanded_ext_tweet)\n",
        "report_ext_tweet.show_notebook()"
      ],
      "execution_count": null,
      "outputs": []
    },
    {
      "cell_type": "markdown",
      "metadata": {
        "id": "z2_ZfAK3NCV8"
      },
      "source": [
        "Exporta relatório para HTML:"
      ]
    },
    {
      "cell_type": "code",
      "metadata": {
        "id": "3ImZQ7g2NJ-P"
      },
      "source": [
        "report_ext_tweet.show_html(filepath='SWEETVIZ_REPORT_EXTENDED_TWEET.html')"
      ],
      "execution_count": null,
      "outputs": []
    },
    {
      "cell_type": "markdown",
      "metadata": {
        "id": "dvStRa7iRFpY"
      },
      "source": [
        "### Coluna entities"
      ]
    },
    {
      "cell_type": "markdown",
      "metadata": {
        "id": "eTSdhV8tUZ6I"
      },
      "source": [
        "Transforma os objetos JSON da coluna em um DataFrame:"
      ]
    },
    {
      "cell_type": "code",
      "metadata": {
        "id": "yJuhuG77iJwu"
      },
      "source": [
        "expanded_entities = pd.json_normalize(ds.entities.apply(json.loads))\n",
        "expanded_entities.head()"
      ],
      "execution_count": null,
      "outputs": []
    },
    {
      "cell_type": "markdown",
      "metadata": {
        "id": "dzns2vusUqGM"
      },
      "source": [
        "Analisa o DataFrame (Sweetviz):"
      ]
    },
    {
      "cell_type": "code",
      "metadata": {
        "id": "ls3flB3zUtUN"
      },
      "source": [
        "report_entities = sv.analyze(expanded_entities)\n",
        "report_entities.show_notebook(filepath='SWEETVIZ_REPORT_ENTITIES.html')"
      ],
      "execution_count": null,
      "outputs": []
    }
  ]
}