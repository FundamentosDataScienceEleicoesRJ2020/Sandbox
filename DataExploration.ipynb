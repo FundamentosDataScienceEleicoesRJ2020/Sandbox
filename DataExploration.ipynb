{
  "nbformat": 4,
  "nbformat_minor": 0,
  "metadata": {
    "colab": {
      "name": "DataExploration.ipynb",
      "provenance": [],
      "collapsed_sections": [],
      "mount_file_id": "1VUa5MgvuUSCCiNHo41b-AKGlPY_7-ECN",
      "authorship_tag": "ABX9TyOGhAXGIy74dunqLbloKxfh"
    },
    "kernelspec": {
      "name": "python3",
      "display_name": "Python 3"
    }
  },
  "cells": [
    {
      "cell_type": "markdown",
      "metadata": {
        "id": "alVCNhCJVsdx"
      },
      "source": [
        "# Pré-Requisitos"
      ]
    },
    {
      "cell_type": "markdown",
      "metadata": {
        "id": "IiIJteApVzjr"
      },
      "source": [
        "## Sweetviz - https://pypi.org/project/sweetviz/"
      ]
    },
    {
      "cell_type": "code",
      "metadata": {
        "id": "-WzgYLKpV2Oa"
      },
      "source": [
        "!pip install sweetviz"
      ],
      "execution_count": null,
      "outputs": []
    },
    {
      "cell_type": "markdown",
      "metadata": {
        "id": "5wgYP1uct_2Y"
      },
      "source": [
        "## Baixa e Descompacta o Dataset"
      ]
    },
    {
      "cell_type": "code",
      "metadata": {
        "id": "sE3Yr66XuvsV"
      },
      "source": [
        "url = \"http://ec2-100-25-20-177.compute-1.amazonaws.com/coletas/\"\n",
        "# JSON (3 GB):\n",
        "#filename = \"prefeito_rio_2020.json.tar.gz\"\n",
        "# CSV (1 GB):\n",
        "filename = \"prefeito_rio_2020.csv.tar.gz\"\n",
        "!wget {url + filename}\n",
        "!tar -xvzf $filename"
      ],
      "execution_count": null,
      "outputs": []
    },
    {
      "cell_type": "markdown",
      "metadata": {
        "id": "OeargXNb1uwR"
      },
      "source": [
        "### Total de linhas (registros) no arquivo JSON"
      ]
    },
    {
      "cell_type": "code",
      "metadata": {
        "id": "XgFyqTglykHJ"
      },
      "source": [
        "count = 0\n",
        "\n",
        "for line in open(\"prefeito_rio_2020.json\"):\n",
        "  count += 1\n",
        "\n",
        "print(count)"
      ],
      "execution_count": null,
      "outputs": []
    },
    {
      "cell_type": "markdown",
      "metadata": {
        "id": "lYe6XTM8N4Bg"
      },
      "source": [
        "# Bibliotecas"
      ]
    },
    {
      "cell_type": "code",
      "metadata": {
        "id": "3ralI8XsN9yj"
      },
      "source": [
        "import pandas as pd\n",
        "import sweetviz as sv"
      ],
      "execution_count": null,
      "outputs": []
    },
    {
      "cell_type": "markdown",
      "metadata": {
        "id": "9DXdghqxcUJZ"
      },
      "source": [
        "# Abre o DataSet diretamente do GitHub"
      ]
    },
    {
      "cell_type": "code",
      "metadata": {
        "id": "aYU9hM3zln0d"
      },
      "source": [
        "uri = \"prefeito_rio_2020.csv\"\n",
        "ds = pd.read_csv(uri)\n",
        "ds.head()"
      ],
      "execution_count": null,
      "outputs": []
    },
    {
      "cell_type": "markdown",
      "metadata": {
        "id": "wNhl6qzaX0po"
      },
      "source": [
        "# Mostra informações sobre o DataSet"
      ]
    },
    {
      "cell_type": "code",
      "metadata": {
        "id": "VfUK5nZFX-X2"
      },
      "source": [
        "ds.info()"
      ],
      "execution_count": null,
      "outputs": []
    },
    {
      "cell_type": "markdown",
      "metadata": {
        "id": "zwAQAub-dH3_"
      },
      "source": [
        "# Seleciona registros com dados nulos"
      ]
    },
    {
      "cell_type": "code",
      "metadata": {
        "id": "fQ4L7RhWAWbv"
      },
      "source": [
        "ds[ds.isna().any(axis=1)]"
      ],
      "execution_count": null,
      "outputs": []
    },
    {
      "cell_type": "markdown",
      "metadata": {
        "id": "5qg0p7Vc2M72"
      },
      "source": [
        "# Mostra total de valores nulos por colunas"
      ]
    },
    {
      "cell_type": "code",
      "metadata": {
        "id": "uiXlDsoW1UlD"
      },
      "source": [
        "ds.isna().sum()"
      ],
      "execution_count": null,
      "outputs": []
    },
    {
      "cell_type": "markdown",
      "metadata": {
        "id": "5PQInSkkdq3f"
      },
      "source": [
        "# Mostra as colunas informando sobre valores nulos"
      ]
    },
    {
      "cell_type": "code",
      "metadata": {
        "id": "2RglXi4fE0-o"
      },
      "source": [
        "ds.isna().any()"
      ],
      "execution_count": null,
      "outputs": []
    },
    {
      "cell_type": "markdown",
      "metadata": {
        "id": "tsVdTngUeKSu"
      },
      "source": [
        "# Lista somente as colunas que possuem valores nulos"
      ]
    },
    {
      "cell_type": "code",
      "metadata": {
        "id": "tftDEVUuF871"
      },
      "source": [
        "ds.columns[ds.isna().any()].tolist()"
      ],
      "execution_count": null,
      "outputs": []
    },
    {
      "cell_type": "markdown",
      "metadata": {
        "id": "H4GOgtcoYhfe"
      },
      "source": [
        "# Análise Exploratória de Dados - Sweetviz"
      ]
    },
    {
      "cell_type": "code",
      "metadata": {
        "id": "cXhdX05mYjqU"
      },
      "source": [
        "report = sv.analyze(ds)\n",
        "report.show_notebook()"
      ],
      "execution_count": null,
      "outputs": []
    },
    {
      "cell_type": "markdown",
      "metadata": {
        "id": "XPI8ml6BNaDb"
      },
      "source": [
        "## Exporta relatório para HTML"
      ]
    },
    {
      "cell_type": "code",
      "metadata": {
        "id": "v7ElVn0KKqld"
      },
      "source": [
        "report.show_html()"
      ],
      "execution_count": null,
      "outputs": []
    }
  ]
}