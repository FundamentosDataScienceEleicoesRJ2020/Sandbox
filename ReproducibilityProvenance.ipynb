{
  "nbformat": 4,
  "nbformat_minor": 0,
  "metadata": {
    "colab": {
      "name": "ReproducibilityProvenance.ipynb",
      "provenance": [],
      "collapsed_sections": [],
      "authorship_tag": "ABX9TyP+xCzIHBLTu0v4eHi28RzZ"
    },
    "kernelspec": {
      "name": "python3",
      "display_name": "Python 3"
    }
  },
  "cells": [
    {
      "cell_type": "markdown",
      "metadata": {
        "id": "N26tYM8skDaE"
      },
      "source": [
        "# Pré-Requisitos"
      ]
    },
    {
      "cell_type": "markdown",
      "metadata": {
        "id": "RkktDws8uRby"
      },
      "source": [
        "## PROV - https://pypi.org/project/prov/"
      ]
    },
    {
      "cell_type": "code",
      "metadata": {
        "id": "J6Jy23dZuVPO"
      },
      "source": [
        "!pip install prov"
      ],
      "execution_count": null,
      "outputs": []
    },
    {
      "cell_type": "markdown",
      "metadata": {
        "id": "7hKEstIKt4ga"
      },
      "source": [
        "## Sweetviz - https://pypi.org/project/sweetviz/"
      ]
    },
    {
      "cell_type": "code",
      "metadata": {
        "id": "FxSjhW8wkHai"
      },
      "source": [
        "!pip install sweetviz"
      ],
      "execution_count": null,
      "outputs": []
    },
    {
      "cell_type": "markdown",
      "metadata": {
        "id": "ZUJ7D_1miI3f"
      },
      "source": [
        "# Bibliotecas"
      ]
    },
    {
      "cell_type": "code",
      "metadata": {
        "id": "97aNGhY-hDWJ"
      },
      "source": [
        "import sweetviz as sv\n",
        "import pandas as pd\n",
        "import prov\n",
        "import json"
      ],
      "execution_count": null,
      "outputs": []
    },
    {
      "cell_type": "markdown",
      "metadata": {
        "id": "JAxVjNn8woun"
      },
      "source": [
        "# Reprodutibilidade"
      ]
    },
    {
      "cell_type": "markdown",
      "metadata": {
        "id": "7fC9_a3_i7Yp"
      },
      "source": [
        "## Mostra as versões das bibliotecas usadas"
      ]
    },
    {
      "cell_type": "code",
      "metadata": {
        "id": "eF36i0fOiMyC"
      },
      "source": [
        "import sys\n",
        "\n",
        "print('Versão do Pandas:', pd.__version__)\n",
        "print('Versão do PROV:', prov.__version__)\n",
        "print('Versão do JSON:', json.__version__)\n",
        "print('Versão do Sweetviz:', sv.__version__)\n",
        "print('Versão do Python:', sys.version)"
      ],
      "execution_count": null,
      "outputs": []
    },
    {
      "cell_type": "markdown",
      "metadata": {
        "id": "71rc-9M2rsv9"
      },
      "source": [
        "## Sistema Operacional"
      ]
    },
    {
      "cell_type": "code",
      "metadata": {
        "id": "7Yj11vhdprZH"
      },
      "source": [
        "!cat /etc/os-release"
      ],
      "execution_count": null,
      "outputs": []
    },
    {
      "cell_type": "markdown",
      "metadata": {
        "id": "wua_ucxmsVRJ"
      },
      "source": [
        "### Versão do kernel"
      ]
    },
    {
      "cell_type": "code",
      "metadata": {
        "id": "Dl7XhFABsBjT"
      },
      "source": [
        "!cat /proc/version"
      ],
      "execution_count": null,
      "outputs": []
    },
    {
      "cell_type": "markdown",
      "metadata": {
        "id": "ENh1FZ-aJKgT"
      },
      "source": [
        "### Arquitetura do Processador (32 ou 64 bits)"
      ]
    },
    {
      "cell_type": "code",
      "metadata": {
        "id": "Z4KyKtfQJRTB"
      },
      "source": [
        "!lscpu"
      ],
      "execution_count": null,
      "outputs": []
    },
    {
      "cell_type": "markdown",
      "metadata": {
        "id": "hAtPChDr4-Qe"
      },
      "source": [
        "### Memória (RAM e afins)"
      ]
    },
    {
      "cell_type": "code",
      "metadata": {
        "id": "J4wdoO5Z5B4H"
      },
      "source": [
        "!cat /proc/meminfo"
      ],
      "execution_count": null,
      "outputs": []
    },
    {
      "cell_type": "markdown",
      "metadata": {
        "id": "wuraH9qKyFYN"
      },
      "source": [
        "# Provenance"
      ]
    },
    {
      "cell_type": "code",
      "metadata": {
        "id": "mFPVVXrQyb1z"
      },
      "source": [
        "from prov import model\n",
        "# Create a new provenance document\n",
        "doc = model.ProvDocument()\n",
        "# Declaring namespaces\n",
        "doc.set_default_namespace('https://github.com/FundamentosDataScienceEleicoesRJ2020')\n",
        "doc.add_namespace('cores', 'http://labcores.ppgi.ufrj.br/')\n",
        "doc.add_namespace('ppgi', 'http://www.ppgi.ufrj.br/')\n",
        "# Criando entidades\n",
        "dataset = doc.entity('cores:prefeito_rio_2020', {model.PROV_TYPE : 'cores:dataset', model.PROV_LOCATION : 'https://rafaelescalfoni.net/prefeito_rio_2020.csv',\n",
        "                                                 'cores:resume' : 'Dados coletados do twitter sobre tweets que usaram em seu texto termos relacionados aos candidatos à prefeitura do Rio de Janeiro durante as eleições de 2020',\n",
        "                                                 'cores:records' : '580.354', 'cores:columns' : '31'})\n",
        "csv = doc.entity('cores:prefeito_rio_2020.csv', {model.PROV_TYPE : 'File', 'cores:size' : '1.29 GB'})\n",
        "clean_data = doc.entity('ppgi:Dataset com Dados Tratados')\n",
        "proc_data = doc.entity('ppgi:Dataset com Texto Processado')\n",
        "artigo = doc.entity('ppgi:Artigo sobre Análise Exploratória de Dados - Eleições de 2020 para a Prefeitura do Rio de Janeiro')\n",
        "# Criando agentes\n",
        "jamile = doc.agent('cores:Jamile Santos', {model.PROV_TYPE : 'prov:Person', 'cores:position': 'Estudante',\n",
        "                                           model.PROV_LOCATION : 'Lab CORES - Laboratório de Computação Social e Análise de Redes Sociais'})\n",
        "jivago = doc.agent('cores:Jivago Medeiros', {model.PROV_TYPE : 'prov:Person', 'cores:position': 'Estudante',\n",
        "                                             model.PROV_LOCATION : 'Lab CORES - Laboratório de Computação Social e Análise de Redes Sociais'})\n",
        "api = doc.agent('Twitter API', {model.PROV_TYPE : 'prov:SoftwareAgent', 'prov:publisher' : 'Twitter', model.PROV_LOCATION : 'https://api.twitter.com/2/tweets/search/stream',\n",
        "                                'prov:label' : 'https://developer.twitter.com/en/docs/twitter-api/tweets/filtered-stream/api-reference/get-tweets-search-stream'})\n",
        "grupo = doc.agent('ppgi:Grupo 1', {model.PROV_TYPE : 'prov:Organization', model.PROV_ROLE : 'Grupo de Trabalho', model.PROV_LOCATION : 'Fundamentos de Ciência de Dados / PPGI-UFRJ',\n",
        "                                   'ppgi:members' : 'Ana Vasconcelos, Jivago Medeiros, Rafael Escalfoni, Silas Pereira, Sírius Thadeu'})\n",
        "# Criando atividades\n",
        "scrap = doc.activity('cores:Scrap Text and Metadata', '29/09/2020', '01/12/2020', {'cores:filter' : '[{nomeCandidato} AND [{numeroPartido} OR {siglaPartido} OR $ANO]]'})\n",
        "data_clean = doc.activity('ppgi:Limpeza de Dados')\n",
        "text_proc = doc.activity('ppgi:Processamento de Texto')\n",
        "eda = doc.activity('ppgi:Análise Exploratória de Dados')\n",
        "# Relacionamentos\n",
        "doc.used(data_clean, dataset)\n",
        "doc.used(text_proc, clean_data)\n",
        "doc.used(eda, proc_data)\n",
        "doc.wasInfluencedBy(scrap, api)\n",
        "scrap.wasAssociatedWith(jamile)\n",
        "scrap.wasAssociatedWith(jivago)\n",
        "data_clean.wasAssociatedWith(grupo)\n",
        "text_proc.wasAssociatedWith(grupo)\n",
        "eda.wasAssociatedWith(grupo)\n",
        "dataset.wasAttributedTo(jamile)\n",
        "dataset.wasAttributedTo(jivago)\n",
        "dataset.wasGeneratedBy(scrap)\n",
        "csv.wasDerivedFrom(dataset)\n",
        "clean_data.wasGeneratedBy(data_clean)\n",
        "clean_data.wasDerivedFrom(csv)\n",
        "proc_data.wasGeneratedBy(text_proc)\n",
        "proc_data.wasDerivedFrom(clean_data)\n",
        "artigo.wasGeneratedBy(eda)\n",
        "artigo.wasDerivedFrom(proc_data)\n",
        "artigo.wasAttributedTo(grupo)\n",
        "print(doc.get_provn())"
      ],
      "execution_count": null,
      "outputs": []
    },
    {
      "cell_type": "markdown",
      "metadata": {
        "id": "agvaqzZWSh4j"
      },
      "source": [
        "## Gera o gráfico"
      ]
    },
    {
      "cell_type": "code",
      "metadata": {
        "id": "FNNiF6PgSwyp"
      },
      "source": [
        "from prov import dot\n",
        "# Save the provenance graph\n",
        "dot = dot.prov_to_dot(doc)\n",
        "dot.write_png('prefeito_rio_2020-dataset-prov.png')\n",
        "# Visualize the graph file\n",
        "from IPython.display import Image\n",
        "Image('prefeito_rio_2020-dataset-prov.png')"
      ],
      "execution_count": null,
      "outputs": []
    }
  ]
}