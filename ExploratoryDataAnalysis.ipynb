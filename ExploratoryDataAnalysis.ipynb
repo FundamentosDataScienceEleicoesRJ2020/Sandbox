{
  "nbformat": 4,
  "nbformat_minor": 0,
  "metadata": {
    "colab": {
      "name": "ExploratoryDataAnalysis.ipynb",
      "provenance": [],
      "collapsed_sections": [],
      "authorship_tag": "ABX9TyNNdvd6+aGlwkymJMouOY/D"
    },
    "kernelspec": {
      "name": "python3",
      "display_name": "Python 3"
    },
    "language_info": {
      "name": "python"
    }
  },
  "cells": [
    {
      "cell_type": "markdown",
      "metadata": {
        "id": "P2qi1GH8zZYx"
      },
      "source": [
        "# Bibliotecas"
      ]
    },
    {
      "cell_type": "code",
      "metadata": {
        "id": "IYpMrUpGzWiF"
      },
      "source": [
        "import pandas as pd"
      ],
      "execution_count": null,
      "outputs": []
    },
    {
      "cell_type": "markdown",
      "metadata": {
        "id": "9DXdghqxcUJZ"
      },
      "source": [
        "# Abre o DataSet diretamente da internet"
      ]
    },
    {
      "cell_type": "markdown",
      "metadata": {
        "id": "GL-NAQyWXtoe"
      },
      "source": [
        "Desabilita verificação SSL em caso de certificado auto-assinado:"
      ]
    },
    {
      "cell_type": "code",
      "metadata": {
        "id": "TO2stlAWUfX1"
      },
      "source": [
        "import ssl\n",
        "\n",
        "ssl._create_default_https_context = ssl._create_unverified_context"
      ],
      "execution_count": null,
      "outputs": []
    },
    {
      "cell_type": "markdown",
      "metadata": {
        "id": "FvHOGwd0UlnF"
      },
      "source": [
        "Lê o Dataset:"
      ]
    },
    {
      "cell_type": "code",
      "metadata": {
        "id": "ekyUKGGh8f2j"
      },
      "source": [
        "url = \"https://rafaelescalfoni.net/prefeito_rio_2020.csv\"\n",
        "ds = pd.read_csv(url)\n",
        "ds.info()"
      ],
      "execution_count": null,
      "outputs": []
    },
    {
      "cell_type": "markdown",
      "metadata": {
        "id": "7bOvTFne3UMe"
      },
      "source": [
        "# Limpeza de Dados"
      ]
    },
    {
      "cell_type": "markdown",
      "metadata": {
        "id": "dLxIk0iFbN7F"
      },
      "source": [
        "## Eliminação de colunas"
      ]
    },
    {
      "cell_type": "markdown",
      "metadata": {
        "id": "DNQrtXlqbYHc"
      },
      "source": [
        "### Função para eliminar colunas com taxa de nulos acima do limite"
      ]
    },
    {
      "cell_type": "code",
      "metadata": {
        "id": "mGC_hPsNRiYd"
      },
      "source": [
        "from pandas.core.frame import DataFrame\n",
        "\n",
        "def drop_column_null_above_limit(df: DataFrame, threshold = 0.8):\n",
        "  # Pega colunas acima do limite de null\n",
        "  columns = [column for column in df.columns if df[column].isna().sum()/df.shape[0] > threshold]\n",
        "\n",
        "  return df.drop(columns, axis=1)"
      ],
      "execution_count": null,
      "outputs": []
    },
    {
      "cell_type": "markdown",
      "metadata": {
        "id": "t9hyRVfCby-u"
      },
      "source": [
        "### Elimina colunas com alta taxa de nulos"
      ]
    },
    {
      "cell_type": "code",
      "metadata": {
        "id": "7LZ0DOGMWqa8"
      },
      "source": [
        "ds = drop_column_null_above_limit(ds)\n",
        "ds.info()"
      ],
      "execution_count": null,
      "outputs": []
    },
    {
      "cell_type": "markdown",
      "metadata": {
        "id": "sZCZ-qsjc3CR"
      },
      "source": [
        "## TODO Expandir colunas JSON, eliminar as colunas com altas taxa de nulo e fazer o merge desses datasets com o principal"
      ]
    },
    {
      "cell_type": "code",
      "metadata": {
        "id": "A_jQaTYndNpt"
      },
      "source": [
        "# TODO"
      ],
      "execution_count": null,
      "outputs": []
    },
    {
      "cell_type": "markdown",
      "metadata": {
        "id": "Gbb8T_nPbmss"
      },
      "source": [
        "## TODO Preenchimento de nulos"
      ]
    },
    {
      "cell_type": "code",
      "metadata": {
        "id": "nh8fTF_vqEEl"
      },
      "source": [
        "# Preenche campos texto com a string vazia\n",
        "ds['author'] = ds['author'].fillna('')\n",
        "ds['title'] = ds['title'].fillna('')\n",
        "ds['text'] = ds['text'].fillna('')\n",
        "ds['thread_title'] = ds['thread_title'].fillna('')\n",
        "ds['main_img_url'] = ds['main_img_url'].fillna('')\n",
        "# Preenche código de país vazio com XX (não registrado)\n",
        "ds['country'] = ds['country'].fillna('XX')\n",
        "# Preenche coluna de rank vazia com 0 (não classificado)\n",
        "ds['domain_rank'] = ds['domain_rank'].fillna(0)\n",
        "# Seleciona registros com dados nulos\n",
        "ds[ds.isna().any(axis=1)]"
      ],
      "execution_count": null,
      "outputs": []
    },
    {
      "cell_type": "markdown",
      "metadata": {
        "id": "fC82fhme-TsS"
      },
      "source": [
        "# TODO Processamento de Texto"
      ]
    },
    {
      "cell_type": "code",
      "metadata": {
        "id": "WcD5mo7C-ZrX"
      },
      "source": [
        "# https://towardsai.net/p/data-mining/text-mining-in-python-steps-and-examples-78b3f8fd913b\n",
        "# https://machinelearningmastery.com/clean-text-machine-learning-python/\n",
        "# Cria datasets em portugês e inglês\n",
        "ds_por = ds[ds.language == 'portuguese']\n",
        "ds_ing = ds[ds.language == 'english']\n",
        "ds_ing"
      ],
      "execution_count": null,
      "outputs": []
    },
    {
      "cell_type": "code",
      "metadata": {
        "id": "wtM1Mb_xigK4"
      },
      "source": [
        "import pandas as pd\n",
        "import nltk\n",
        "\n",
        "nltk.download('punkt')\n",
        "df = pd.DataFrame({'frases': ['Do not let the day end without having grown a little,', 'without having been happy, without having increased your dreams', 'Do not let yourself be overcomed by discouragement.','We are passion-full beings.']})\n",
        "df['tokenized'] = df.apply(lambda row: nltk.word_tokenize(row['frases']), axis=1)\n",
        "df"
      ],
      "execution_count": null,
      "outputs": []
    },
    {
      "cell_type": "markdown",
      "metadata": {
        "id": "xTGrChQ7-gNe"
      },
      "source": [
        "# TODO Análise Exploratória de Dados"
      ]
    },
    {
      "cell_type": "code",
      "metadata": {
        "id": "uxTkA-4rWXTb"
      },
      "source": [
        "ds['language'].value_counts()"
      ],
      "execution_count": null,
      "outputs": []
    }
  ]
}